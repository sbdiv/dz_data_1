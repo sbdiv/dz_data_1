{
 "cells": [
  {
   "cell_type": "markdown",
   "metadata": {},
   "source": [
    "Створіть одновимірний масив (вектор) з першими 10-ма натуральними числами та виведіть його значення."
   ]
  },
  {
   "cell_type": "code",
   "execution_count": 13,
   "metadata": {},
   "outputs": [
    {
     "data": {
      "text/plain": [
       "array([ 1,  2,  3,  4,  5,  6,  7,  8,  9, 10])"
      ]
     },
     "execution_count": 13,
     "metadata": {},
     "output_type": "execute_result"
    }
   ],
   "source": [
    "import numpy as np\n",
    "\n",
    "vector = np.arange(1, 11)\n",
    "vector\n"
   ]
  },
  {
   "cell_type": "markdown",
   "metadata": {},
   "source": [
    "Створіть двовимірний масив (матрицю) розміром 3x3, заповніть його нулями та виведіть його значення."
   ]
  },
  {
   "cell_type": "code",
   "execution_count": 14,
   "metadata": {},
   "outputs": [
    {
     "data": {
      "text/plain": [
       "array([[0., 0., 0.],\n",
       "       [0., 0., 0.],\n",
       "       [0., 0., 0.]])"
      ]
     },
     "execution_count": 14,
     "metadata": {},
     "output_type": "execute_result"
    }
   ],
   "source": [
    "matrix = np.zeros((3, 3))\n",
    "matrix\n"
   ]
  },
  {
   "cell_type": "markdown",
   "metadata": {},
   "source": [
    "Створіть масив розміром 5x5, заповніть його випадковими цілими числами в діапазоні від 1 до 10 та виведіть його значення."
   ]
  },
  {
   "cell_type": "code",
   "execution_count": 15,
   "metadata": {},
   "outputs": [
    {
     "name": "stdout",
     "output_type": "stream",
     "text": [
      "\n",
      "Масив 5x5, заповнений випадковими цілими числами від 1 до 10:\n",
      "[[ 8 10 10  5  2]\n",
      " [ 2  8  9  9  7]\n",
      " [ 6  1  7  7  1]\n",
      " [ 8  9  5  1  3]\n",
      " [10  1  5  8  6]]\n"
     ]
    }
   ],
   "source": [
    "random_matrix_5x5 = np.random.randint(1, 11, size=(5, 5))\n",
    "print(\"\\nМасив 5x5, заповнений випадковими цілими числами від 1 до 10:\")\n",
    "print(random_matrix_5x5)"
   ]
  },
  {
   "cell_type": "markdown",
   "metadata": {},
   "source": [
    "Створіть масив розміром 4x4, заповніть його випадковими дійсними числами в діапазоні від 0 до 1 та виведіть його значення."
   ]
  },
  {
   "cell_type": "code",
   "execution_count": 16,
   "metadata": {},
   "outputs": [
    {
     "name": "stdout",
     "output_type": "stream",
     "text": [
      "Масив 4x4, заповнений випадковими дійсними числами від 0 до 1:\n",
      "[[0.2517947  0.40434262 0.90895322 0.0279615 ]\n",
      " [0.13448174 0.76503428 0.08473805 0.15825891]\n",
      " [0.77782173 0.57054188 0.68544588 0.92107992]\n",
      " [0.19618683 0.88415311 0.12011833 0.63919404]]\n"
     ]
    }
   ],
   "source": [
    "random_matrix_4x4 = np.random.rand(4, 4)\n",
    "print(\"Масив 4x4, заповнений випадковими дійсними числами від 0 до 1:\")\n",
    "print(random_matrix_4x4)"
   ]
  },
  {
   "cell_type": "markdown",
   "metadata": {},
   "source": [
    "Створіть два одновимірних масиви розміром 5, заповніть їх випадковими цілими числами в діапазоні від 1 до 10 та виконайте на них поелементні операції додавання, віднімання та множення."
   ]
  },
  {
   "cell_type": "code",
   "execution_count": 17,
   "metadata": {},
   "outputs": [
    {
     "name": "stdout",
     "output_type": "stream",
     "text": [
      "Перший масив:\n",
      "[6 8 8 1 2]\n",
      "Другий масив:\n",
      "[ 4 10  3  5  9]\n",
      "\n",
      "Поелементне додавання:\n",
      "[10 18 11  6 11]\n",
      "\n",
      "Поелементне віднімання:\n",
      "[ 2 -2  5 -4 -7]\n",
      "\n",
      "Поелементне множення:\n",
      "[24 80 24  5 18]\n"
     ]
    }
   ],
   "source": [
    "array1 = np.random.randint(1, 11, size=5)\n",
    "array2 = np.random.randint(1, 11, size=5)\n",
    "\n",
    "print(\"Перший масив:\")\n",
    "print(array1)\n",
    "\n",
    "print(\"Другий масив:\")\n",
    "print(array2)\n",
    "\n",
    "addition = np.add(array1, array2)\n",
    "print(\"\\nПоелементне додавання:\")\n",
    "print(addition)\n",
    "\n",
    "subtraction = np.subtract(array1, array2)\n",
    "print(\"\\nПоелементне віднімання:\")\n",
    "print(subtraction)\n",
    "\n",
    "multiplication = np.multiply(array1, array2)\n",
    "print(\"\\nПоелементне множення:\")\n",
    "print(multiplication)\n"
   ]
  },
  {
   "cell_type": "markdown",
   "metadata": {},
   "source": [
    "Створіть два вектори розміром 7, заповніть довільними числами та знайдіть їх скалярний добуток."
   ]
  },
  {
   "cell_type": "code",
   "execution_count": 18,
   "metadata": {},
   "outputs": [
    {
     "name": "stdout",
     "output_type": "stream",
     "text": [
      "Перший вектор:\n",
      "[0.22866596 0.54229262 0.71644086 0.39574264 0.81549224 0.62032493\n",
      " 0.24745693]\n",
      "Другий вектор:\n",
      "[0.09757913 0.8643388  0.7511896  0.78612818 0.38218785 0.83436301\n",
      " 0.32264727]\n",
      "\n",
      "Скалярний добуток:\n",
      "2.2494136459264773\n"
     ]
    }
   ],
   "source": [
    "vector1 = np.random.random(7)\n",
    "vector2 = np.random.random(7)\n",
    "\n",
    "print(\"Перший вектор:\")\n",
    "print(vector1)\n",
    "\n",
    "print(\"Другий вектор:\")\n",
    "print(vector2)\n",
    "\n",
    "dot_product = np.dot(vector1, vector2)\n",
    "print(\"\\nСкалярний добуток:\")\n",
    "print(dot_product)\n"
   ]
  },
  {
   "cell_type": "markdown",
   "metadata": {},
   "source": [
    "Створіть дві матриці розміром 2x2 та 2x3, заповніть їх випадковими цілими числами в діапазоні від 1 до 10 та перемножте їх між собою."
   ]
  },
  {
   "cell_type": "code",
   "execution_count": 19,
   "metadata": {},
   "outputs": [
    {
     "name": "stdout",
     "output_type": "stream",
     "text": [
      "Перша матриця (2x2):\n",
      "[[7 6]\n",
      " [7 5]]\n",
      "Друга матриця (2x3):\n",
      "[[ 9  9  6]\n",
      " [10  5  2]]\n",
      "\n",
      "Добуток матриць (2x2 і 2x3):\n",
      "[[123  93  54]\n",
      " [113  88  52]]\n"
     ]
    }
   ],
   "source": [
    "matrix1 = np.random.randint(1, 11, size=(2, 2))\n",
    "matrix2 = np.random.randint(1, 11, size=(2, 3))\n",
    "\n",
    "print(\"Перша матриця (2x2):\")\n",
    "print(matrix1)\n",
    "\n",
    "print(\"Друга матриця (2x3):\")\n",
    "print(matrix2)\n",
    "\n",
    "product = np.dot(matrix1, matrix2)\n",
    "print(\"\\nДобуток матриць (2x2 і 2x3):\")\n",
    "print(product)\n"
   ]
  },
  {
   "cell_type": "markdown",
   "metadata": {},
   "source": [
    "Створіть матрицю розміром 3x3, заповніть її випадковими цілими числами в діапазоні від 1 до 10 та знайдіть її обернену матрицю."
   ]
  },
  {
   "cell_type": "code",
   "execution_count": 20,
   "metadata": {},
   "outputs": [
    {
     "name": "stdout",
     "output_type": "stream",
     "text": [
      "Матриця 3x3:\n",
      "[[ 3  5  8]\n",
      " [ 3  5  5]\n",
      " [ 9  5 10]]\n",
      "\n",
      "Обернена матриця:\n",
      "[[-0.27777778  0.11111111  0.16666667]\n",
      " [-0.16666667  0.46666667 -0.1       ]\n",
      " [ 0.33333333 -0.33333333  0.        ]]\n"
     ]
    }
   ],
   "source": [
    "matrix = np.random.randint(1, 11, size=(3, 3))\n",
    "\n",
    "print(\"Матриця 3x3:\")\n",
    "print(matrix)\n",
    "\n",
    "try:\n",
    "    inverse_matrix = np.linalg.inv(matrix)\n",
    "    print(\"\\nОбернена матриця:\")\n",
    "    print(inverse_matrix)\n",
    "except np.linalg.LinAlgError:\n",
    "    print(\"\\nМатриця є виродженою і не має оберненої матриці.\")"
   ]
  },
  {
   "cell_type": "markdown",
   "metadata": {},
   "source": [
    "Створіть матрицю розміром 4x4, заповніть її випадковими дійсними числами в діапазоні від 0 до 1 та транспонуйте її."
   ]
  },
  {
   "cell_type": "code",
   "execution_count": 21,
   "metadata": {},
   "outputs": [
    {
     "name": "stdout",
     "output_type": "stream",
     "text": [
      "Матриця 4x4:\n",
      "[[0.33554182 0.09012247 0.24846489 0.26680126]\n",
      " [0.3406758  0.67114937 0.57801958 0.54619678]\n",
      " [0.09248789 0.49597404 0.08474617 0.20658636]\n",
      " [0.47026882 0.73585214 0.94828549 0.84326597]]\n",
      "\n",
      "Транспонована матриця:\n",
      "[[0.33554182 0.3406758  0.09248789 0.47026882]\n",
      " [0.09012247 0.67114937 0.49597404 0.73585214]\n",
      " [0.24846489 0.57801958 0.08474617 0.94828549]\n",
      " [0.26680126 0.54619678 0.20658636 0.84326597]]\n"
     ]
    }
   ],
   "source": [
    "matrix = np.random.rand(4, 4)\n",
    "\n",
    "print(\"Матриця 4x4:\")\n",
    "print(matrix)\n",
    "\n",
    "transposed_matrix = np.transpose(matrix)\n",
    "print(\"\\nТранспонована матриця:\")\n",
    "print(transposed_matrix)"
   ]
  },
  {
   "cell_type": "markdown",
   "metadata": {},
   "source": [
    "Створіть матрицю розміром 3x4 та вектор розміром 4, заповніть їх випадковими цілими числами в діапазоні від 1 до 10 та перемножте матрицю на вектор."
   ]
  },
  {
   "cell_type": "code",
   "execution_count": 22,
   "metadata": {},
   "outputs": [
    {
     "name": "stdout",
     "output_type": "stream",
     "text": [
      "Матриця 3x4:\n",
      "[[ 7  7 10  9]\n",
      " [ 2  9  8  7]\n",
      " [ 4  1  7  7]]\n",
      "\n",
      "Вектор розміром 4:\n",
      "[ 1  5 10  9]\n",
      "\n",
      "Результат множення матриці на вектор:\n",
      "[223 190 142]\n"
     ]
    }
   ],
   "source": [
    "matrix = np.random.randint(1, 11, size=(3, 4))\n",
    "\n",
    "vector = np.random.randint(1, 11, size=4)\n",
    "\n",
    "print(\"Матриця 3x4:\")\n",
    "print(matrix)\n",
    "\n",
    "print(\"\\nВектор розміром 4:\")\n",
    "print(vector)\n",
    "\n",
    "result = np.dot(matrix, vector)\n",
    "print(\"\\nРезультат множення матриці на вектор:\")\n",
    "print(result)"
   ]
  },
  {
   "cell_type": "markdown",
   "metadata": {},
   "source": [
    "Створіть матрицю розміром 2x3 та вектор розміром 3, заповніть їх випадковими дійсними числами в діапазоні від 0 до 1 та перемножте матрицю на вектор."
   ]
  },
  {
   "cell_type": "code",
   "execution_count": 23,
   "metadata": {},
   "outputs": [
    {
     "name": "stdout",
     "output_type": "stream",
     "text": [
      "Матриця 2x3:\n",
      "[[0.94089347 0.38894681 0.79346724]\n",
      " [0.64179604 0.44250825 0.52288537]]\n",
      "\n",
      "Вектор розміром 3:\n",
      "[0.80197455 0.33801339 0.96822604]\n",
      "\n",
      "Результат множення матриці на вектор:\n",
      "[1.65429749 1.17054904]\n"
     ]
    }
   ],
   "source": [
    "matrix = np.random.rand(2, 3)\n",
    "\n",
    "vector = np.random.rand(3)\n",
    "\n",
    "print(\"Матриця 2x3:\")\n",
    "print(matrix)\n",
    "\n",
    "print(\"\\nВектор розміром 3:\")\n",
    "print(vector)\n",
    "\n",
    "result = np.dot(matrix, vector)\n",
    "print(\"\\nРезультат множення матриці на вектор:\")\n",
    "print(result)"
   ]
  },
  {
   "cell_type": "markdown",
   "metadata": {},
   "source": [
    "Створіть дві матриці розміром 2x2, заповніть їх випадковими цілими числами в діапазоні від 1 до 10 та виконайте їхнє поелементне множення."
   ]
  },
  {
   "cell_type": "code",
   "execution_count": 24,
   "metadata": {},
   "outputs": [
    {
     "name": "stdout",
     "output_type": "stream",
     "text": [
      "Перша матриця (2x2):\n",
      "[[1 1]\n",
      " [3 6]]\n",
      "Друга матриця (2x2):\n",
      "[[3 2]\n",
      " [5 5]]\n",
      "\n",
      "Поелементне множення матриць:\n",
      "[[ 3  2]\n",
      " [15 30]]\n"
     ]
    }
   ],
   "source": [
    "matrix1 = np.random.randint(1, 11, size=(2, 2))\n",
    "matrix2 = np.random.randint(1, 11, size=(2, 2))\n",
    "\n",
    "print(\"Перша матриця (2x2):\")\n",
    "print(matrix1)\n",
    "\n",
    "print(\"Друга матриця (2x2):\")\n",
    "print(matrix2)\n",
    "\n",
    "elementwise_multiplication = np.multiply(matrix1, matrix2)\n",
    "print(\"\\nПоелементне множення матриць:\")\n",
    "print(elementwise_multiplication)"
   ]
  },
  {
   "cell_type": "markdown",
   "metadata": {},
   "source": [
    "Створіть дві матриці розміром 2x2, заповніть їх випадковими цілими числами в діапазоні від 1 до 10 та знайдіть їх добуток."
   ]
  },
  {
   "cell_type": "code",
   "execution_count": 25,
   "metadata": {},
   "outputs": [
    {
     "name": "stdout",
     "output_type": "stream",
     "text": [
      "Перша матриця (2x2):\n",
      "[[ 3  6]\n",
      " [ 2 10]]\n",
      "Друга матриця (2x2):\n",
      "[[3 8]\n",
      " [2 2]]\n",
      "\n",
      "Добуток матриць:\n",
      "[[21 36]\n",
      " [26 36]]\n"
     ]
    }
   ],
   "source": [
    "matrix1 = np.random.randint(1, 11, size=(2, 2))\n",
    "matrix2 = np.random.randint(1, 11, size=(2, 2))\n",
    "\n",
    "print(\"Перша матриця (2x2):\")\n",
    "print(matrix1)\n",
    "\n",
    "print(\"Друга матриця (2x2):\")\n",
    "print(matrix2)\n",
    "\n",
    "product = np.dot(matrix1, matrix2)\n",
    "print(\"\\nДобуток матриць:\")\n",
    "print(product)"
   ]
  },
  {
   "cell_type": "markdown",
   "metadata": {},
   "source": [
    "Створіть матрицю розміром 5x5, заповніть її випадковими цілими числами в діапазоні від 1 до 100 та знайдіть суму елементів матриці."
   ]
  },
  {
   "cell_type": "code",
   "execution_count": 26,
   "metadata": {},
   "outputs": [
    {
     "name": "stdout",
     "output_type": "stream",
     "text": [
      "Матриця:\n",
      "[[35 93 94 29 52]\n",
      " [81  5 39 54 31]\n",
      " [57 14 70 46 85]\n",
      " [57 41 50 35 37]\n",
      " [52 36 90 98 60]]\n",
      "Сума елементів матриці: 1341\n"
     ]
    }
   ],
   "source": [
    "matrix = np.random.randint(1, 101, size=(5, 5))\n",
    "\n",
    "sum_of_elements = np.sum(matrix)\n",
    "\n",
    "print(\"Матриця:\")\n",
    "print(matrix)\n",
    "print(\"Сума елементів матриці:\", sum_of_elements)"
   ]
  },
  {
   "cell_type": "markdown",
   "metadata": {},
   "source": [
    "Створіть дві матриці розміром 4x4, заповніть їх випадковими цілими числами в діапазоні від 1 до 10 та знайдіть їхню різницю."
   ]
  },
  {
   "cell_type": "code",
   "execution_count": 28,
   "metadata": {},
   "outputs": [
    {
     "name": "stdout",
     "output_type": "stream",
     "text": [
      "Перша матриця:\n",
      "[[ 2  3  8  9]\n",
      " [ 8  5  3 10]\n",
      " [ 7  4  7  5]\n",
      " [ 1  9  8  5]]\n",
      "\n",
      "Друга матриця:\n",
      "[[7 2 2 4]\n",
      " [3 3 5 8]\n",
      " [9 5 7 5]\n",
      " [7 1 1 6]]\n",
      "\n",
      "Різниця між матрицями:\n",
      "[[-5  1  6  5]\n",
      " [ 5  2 -2  2]\n",
      " [-2 -1  0  0]\n",
      " [-6  8  7 -1]]\n"
     ]
    }
   ],
   "source": [
    "matrix1 = np.random.randint(1, 11, size=(4, 4))\n",
    "\n",
    "matrix2 = np.random.randint(1, 11, size=(4, 4))\n",
    "\n",
    "difference_matrix = matrix1 - matrix2\n",
    "\n",
    "print(\"Перша матриця:\")\n",
    "print(matrix1)\n",
    "print(\"\\nДруга матриця:\")\n",
    "print(matrix2)\n",
    "print(\"\\nРізниця між матрицями:\")\n",
    "print(difference_matrix)"
   ]
  },
  {
   "cell_type": "markdown",
   "metadata": {},
   "source": [
    "Створіть матрицю розміром 3x3, заповніть її випадковими дійсними числами в діапазоні від 0 до 1 та знайдіть вектор-стовпчик, що містить суму елементів кожного рядка матриці."
   ]
  },
  {
   "cell_type": "code",
   "execution_count": 29,
   "metadata": {},
   "outputs": [
    {
     "name": "stdout",
     "output_type": "stream",
     "text": [
      "Матриця:\n",
      "[[0.6511922  0.86934431 0.30015977]\n",
      " [0.29807858 0.97157112 0.13135169]\n",
      " [0.87490312 0.76697298 0.2547874 ]]\n",
      "\n",
      "Суми елементів кожного рядка матриці (вектор-стовпчик):\n",
      "[[1.82069628]\n",
      " [1.40100139]\n",
      " [1.89666349]]\n"
     ]
    }
   ],
   "source": [
    "matrix = np.random.rand(3, 3)\n",
    "\n",
    "row_sums = np.sum(matrix, axis=1, keepdims=True)\n",
    "\n",
    "print(\"Матриця:\")\n",
    "print(matrix)\n",
    "print(\"\\nСуми елементів кожного рядка матриці (вектор-стовпчик):\")\n",
    "print(row_sums)"
   ]
  },
  {
   "cell_type": "markdown",
   "metadata": {},
   "source": [
    "Створіть матрицю розміром 3x4 з довільними цілими числами і створінь матрицю з квадратами цих чисел."
   ]
  },
  {
   "cell_type": "code",
   "execution_count": 30,
   "metadata": {},
   "outputs": [
    {
     "name": "stdout",
     "output_type": "stream",
     "text": [
      "Початкова матриця:\n",
      "[[9 3 4 7]\n",
      " [2 5 8 2]\n",
      " [2 1 8 6]]\n",
      "\n",
      "Матриця з квадратами чисел:\n",
      "[[81  9 16 49]\n",
      " [ 4 25 64  4]\n",
      " [ 4  1 64 36]]\n"
     ]
    }
   ],
   "source": [
    "matrix = np.random.randint(1, 11, size=(3, 4))\n",
    "\n",
    "squared_matrix = np.square(matrix)\n",
    "\n",
    "print(\"Початкова матриця:\")\n",
    "print(matrix)\n",
    "print(\"\\nМатриця з квадратами чисел:\")\n",
    "print(squared_matrix)"
   ]
  },
  {
   "cell_type": "markdown",
   "metadata": {},
   "source": [
    "Створіть вектор розміром 4, заповніть його випадковими цілими числами в діапазоні від 1 до 50 та знайдіть вектор з квадратними коренями цих чисел."
   ]
  },
  {
   "cell_type": "code",
   "execution_count": 31,
   "metadata": {},
   "outputs": [
    {
     "name": "stdout",
     "output_type": "stream",
     "text": [
      "Початковий вектор:\n",
      "[15 25 39 31]\n",
      "\n",
      "Вектор з квадратними коренями:\n",
      "[3.87298335 5.         6.244998   5.56776436]\n"
     ]
    }
   ],
   "source": [
    "vector = np.random.randint(1, 51, size=4)\n",
    "\n",
    "sqrt_vector = np.sqrt(vector)\n",
    "\n",
    "print(\"Початковий вектор:\")\n",
    "print(vector)\n",
    "print(\"\\nВектор з квадратними коренями:\")\n",
    "print(sqrt_vector)"
   ]
  }
 ],
 "metadata": {
  "kernelspec": {
   "display_name": "Python 3",
   "language": "python",
   "name": "python3"
  },
  "language_info": {
   "codemirror_mode": {
    "name": "ipython",
    "version": 3
   },
   "file_extension": ".py",
   "mimetype": "text/x-python",
   "name": "python",
   "nbconvert_exporter": "python",
   "pygments_lexer": "ipython3",
   "version": "3.12.2"
  }
 },
 "nbformat": 4,
 "nbformat_minor": 2
}
